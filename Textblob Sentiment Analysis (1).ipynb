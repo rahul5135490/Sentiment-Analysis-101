{
 "cells": [
  {
   "cell_type": "markdown",
   "id": "9d792845",
   "metadata": {},
   "source": [
    "## Sentiment Analysis\n",
    "\n",
    "Sentiment Analysis can help us finding out the mood and emotions of general a customer or reviewer and it helps in gathering the insightful information regarding the context. Sentiment Analysis is a process of analyzing data and classifying it based on the need of the research."
   ]
  },
  {
   "cell_type": "code",
   "execution_count": 1,
   "id": "dbbde052",
   "metadata": {},
   "outputs": [],
   "source": [
    "import pandas as pd\n",
    "from textblob import TextBlob\n",
    "from nltk.tokenize.toktok import ToktokTokenizer\n",
    "import re\n",
    "tokenizer = ToktokTokenizer()\n",
    "import spacy\n",
    "nlp = spacy.load('en_core_web_sm', disable=['ner'])"
   ]
  },
  {
   "cell_type": "code",
   "execution_count": 2,
   "id": "04c4c58d",
   "metadata": {},
   "outputs": [
    {
     "data": {
      "text/plain": [
       "Sentiment(polarity=0.9099999999999999, subjectivity=0.7800000000000001)"
      ]
     },
     "execution_count": 2,
     "metadata": {},
     "output_type": "execute_result"
    }
   ],
   "source": [
    "TextBlob(\"he is very good boy\").sentiment"
   ]
  },
  {
   "cell_type": "code",
   "execution_count": 3,
   "id": "1a2e0b46",
   "metadata": {},
   "outputs": [
    {
     "data": {
      "text/plain": [
       "Sentiment(polarity=-0.35, subjectivity=0.6000000000000001)"
      ]
     },
     "execution_count": 3,
     "metadata": {},
     "output_type": "execute_result"
    }
   ],
   "source": [
    "TextBlob(\"he is not a good boy\").sentiment"
   ]
  },
  {
   "cell_type": "code",
   "execution_count": 4,
   "id": "55365318",
   "metadata": {},
   "outputs": [
    {
     "data": {
      "text/plain": [
       "Sentiment(polarity=-0.4, subjectivity=0.6)"
      ]
     },
     "execution_count": 4,
     "metadata": {},
     "output_type": "execute_result"
    }
   ],
   "source": [
    "TextBlob(\"Eerybody says this man is poor\").sentiment"
   ]
  },
  {
   "cell_type": "markdown",
   "id": "13683e3c",
   "metadata": {},
   "source": [
    "### Polarity and Subjectivity\n",
    "Polarity is a float value which helps in identifying whether a sentence is positive or negative. Its values ranges in [-1,1] where 1 means positive statement and -1 means a negative statement. \n",
    "\n",
    "On the other side, Subjective sentences generally refer to personal opinion, emotion or judgment whereas objective refers to factual information. Subjectivity is also a float which lies in the range of [0,1]. Closer the value to 1, more likly it is public opinion."
   ]
  },
  {
   "cell_type": "code",
   "execution_count": 5,
   "id": "9110f05a",
   "metadata": {},
   "outputs": [
    {
     "data": {
      "text/html": [
       "<div>\n",
       "<style scoped>\n",
       "    .dataframe tbody tr th:only-of-type {\n",
       "        vertical-align: middle;\n",
       "    }\n",
       "\n",
       "    .dataframe tbody tr th {\n",
       "        vertical-align: top;\n",
       "    }\n",
       "\n",
       "    .dataframe thead th {\n",
       "        text-align: right;\n",
       "    }\n",
       "</style>\n",
       "<table border=\"1\" class=\"dataframe\">\n",
       "  <thead>\n",
       "    <tr style=\"text-align: right;\">\n",
       "      <th></th>\n",
       "      <th>text</th>\n",
       "      <th>label</th>\n",
       "    </tr>\n",
       "  </thead>\n",
       "  <tbody>\n",
       "    <tr>\n",
       "      <th>0</th>\n",
       "      <td>I grew up (b. 1965) watching and loving the Th...</td>\n",
       "      <td>0</td>\n",
       "    </tr>\n",
       "    <tr>\n",
       "      <th>1</th>\n",
       "      <td>When I put this movie in my DVD player, and sa...</td>\n",
       "      <td>0</td>\n",
       "    </tr>\n",
       "    <tr>\n",
       "      <th>2</th>\n",
       "      <td>Why do people who do not know what a particula...</td>\n",
       "      <td>0</td>\n",
       "    </tr>\n",
       "    <tr>\n",
       "      <th>3</th>\n",
       "      <td>Even though I have great interest in Biblical ...</td>\n",
       "      <td>0</td>\n",
       "    </tr>\n",
       "    <tr>\n",
       "      <th>4</th>\n",
       "      <td>Im a die hard Dads Army fan and nothing will e...</td>\n",
       "      <td>1</td>\n",
       "    </tr>\n",
       "    <tr>\n",
       "      <th>...</th>\n",
       "      <td>...</td>\n",
       "      <td>...</td>\n",
       "    </tr>\n",
       "    <tr>\n",
       "      <th>39995</th>\n",
       "      <td>\"Western Union\" is something of a forgotten cl...</td>\n",
       "      <td>1</td>\n",
       "    </tr>\n",
       "    <tr>\n",
       "      <th>39996</th>\n",
       "      <td>This movie is an incredible piece of work. It ...</td>\n",
       "      <td>1</td>\n",
       "    </tr>\n",
       "    <tr>\n",
       "      <th>39997</th>\n",
       "      <td>My wife and I watched this movie because we pl...</td>\n",
       "      <td>0</td>\n",
       "    </tr>\n",
       "    <tr>\n",
       "      <th>39998</th>\n",
       "      <td>When I first watched Flatliners, I was amazed....</td>\n",
       "      <td>1</td>\n",
       "    </tr>\n",
       "    <tr>\n",
       "      <th>39999</th>\n",
       "      <td>Why would this film be so good, but only gross...</td>\n",
       "      <td>1</td>\n",
       "    </tr>\n",
       "  </tbody>\n",
       "</table>\n",
       "<p>40000 rows × 2 columns</p>\n",
       "</div>"
      ],
      "text/plain": [
       "                                                    text  label\n",
       "0      I grew up (b. 1965) watching and loving the Th...      0\n",
       "1      When I put this movie in my DVD player, and sa...      0\n",
       "2      Why do people who do not know what a particula...      0\n",
       "3      Even though I have great interest in Biblical ...      0\n",
       "4      Im a die hard Dads Army fan and nothing will e...      1\n",
       "...                                                  ...    ...\n",
       "39995  \"Western Union\" is something of a forgotten cl...      1\n",
       "39996  This movie is an incredible piece of work. It ...      1\n",
       "39997  My wife and I watched this movie because we pl...      0\n",
       "39998  When I first watched Flatliners, I was amazed....      1\n",
       "39999  Why would this film be so good, but only gross...      1\n",
       "\n",
       "[40000 rows x 2 columns]"
      ]
     },
     "execution_count": 5,
     "metadata": {},
     "output_type": "execute_result"
    }
   ],
   "source": [
    "### Data Loading\n",
    "train=pd.read_csv(\"Train.csv\")\n",
    "train"
   ]
  },
  {
   "cell_type": "code",
   "execution_count": 6,
   "id": "66aeddb4",
   "metadata": {},
   "outputs": [],
   "source": [
    "label_0=train[train['label']==0].sample(n=5000)\n",
    "label_1=train[train['label']==1].sample(n=5000)"
   ]
  },
  {
   "cell_type": "code",
   "execution_count": 7,
   "id": "9bc21abd",
   "metadata": {},
   "outputs": [],
   "source": [
    "train=pd.concat([label_1,label_0])\n",
    "from sklearn.utils import shuffle\n",
    "train = shuffle(train)"
   ]
  },
  {
   "cell_type": "code",
   "execution_count": 8,
   "id": "9864aa78",
   "metadata": {},
   "outputs": [
    {
     "data": {
      "text/html": [
       "<div>\n",
       "<style scoped>\n",
       "    .dataframe tbody tr th:only-of-type {\n",
       "        vertical-align: middle;\n",
       "    }\n",
       "\n",
       "    .dataframe tbody tr th {\n",
       "        vertical-align: top;\n",
       "    }\n",
       "\n",
       "    .dataframe thead th {\n",
       "        text-align: right;\n",
       "    }\n",
       "</style>\n",
       "<table border=\"1\" class=\"dataframe\">\n",
       "  <thead>\n",
       "    <tr style=\"text-align: right;\">\n",
       "      <th></th>\n",
       "      <th>text</th>\n",
       "      <th>label</th>\n",
       "    </tr>\n",
       "  </thead>\n",
       "  <tbody>\n",
       "    <tr>\n",
       "      <th>15077</th>\n",
       "      <td>While it was nice to see a film about older pe...</td>\n",
       "      <td>0</td>\n",
       "    </tr>\n",
       "    <tr>\n",
       "      <th>19422</th>\n",
       "      <td>Same old same old about Che. It completely ign...</td>\n",
       "      <td>0</td>\n",
       "    </tr>\n",
       "    <tr>\n",
       "      <th>10822</th>\n",
       "      <td>Is this a good movie? It's hard to say -- but ...</td>\n",
       "      <td>1</td>\n",
       "    </tr>\n",
       "    <tr>\n",
       "      <th>20273</th>\n",
       "      <td>The mind boggles at exactly what about Univers...</td>\n",
       "      <td>0</td>\n",
       "    </tr>\n",
       "    <tr>\n",
       "      <th>25788</th>\n",
       "      <td>This is surprisingly above average slasher, th...</td>\n",
       "      <td>1</td>\n",
       "    </tr>\n",
       "    <tr>\n",
       "      <th>...</th>\n",
       "      <td>...</td>\n",
       "      <td>...</td>\n",
       "    </tr>\n",
       "    <tr>\n",
       "      <th>7451</th>\n",
       "      <td>this is one of the funniest shows i have ever ...</td>\n",
       "      <td>1</td>\n",
       "    </tr>\n",
       "    <tr>\n",
       "      <th>4178</th>\n",
       "      <td>Just in time to capitalize on the long-awaited...</td>\n",
       "      <td>0</td>\n",
       "    </tr>\n",
       "    <tr>\n",
       "      <th>17145</th>\n",
       "      <td>This is one creepy movie. Creepier than anythi...</td>\n",
       "      <td>1</td>\n",
       "    </tr>\n",
       "    <tr>\n",
       "      <th>19107</th>\n",
       "      <td>This film is amazing - it's just like a nightm...</td>\n",
       "      <td>1</td>\n",
       "    </tr>\n",
       "    <tr>\n",
       "      <th>20794</th>\n",
       "      <td>This meandering tale of mob revenge is simply ...</td>\n",
       "      <td>0</td>\n",
       "    </tr>\n",
       "  </tbody>\n",
       "</table>\n",
       "<p>10000 rows × 2 columns</p>\n",
       "</div>"
      ],
      "text/plain": [
       "                                                    text  label\n",
       "15077  While it was nice to see a film about older pe...      0\n",
       "19422  Same old same old about Che. It completely ign...      0\n",
       "10822  Is this a good movie? It's hard to say -- but ...      1\n",
       "20273  The mind boggles at exactly what about Univers...      0\n",
       "25788  This is surprisingly above average slasher, th...      1\n",
       "...                                                  ...    ...\n",
       "7451   this is one of the funniest shows i have ever ...      1\n",
       "4178   Just in time to capitalize on the long-awaited...      0\n",
       "17145  This is one creepy movie. Creepier than anythi...      1\n",
       "19107  This film is amazing - it's just like a nightm...      1\n",
       "20794  This meandering tale of mob revenge is simply ...      0\n",
       "\n",
       "[10000 rows x 2 columns]"
      ]
     },
     "execution_count": 8,
     "metadata": {},
     "output_type": "execute_result"
    }
   ],
   "source": [
    "train"
   ]
  },
  {
   "cell_type": "markdown",
   "id": "104a4b81",
   "metadata": {},
   "source": [
    "Here, the data has two labels ie 0 and 1. 0 stands for \"Negative\" and \"1\" stands for \"Positive\"."
   ]
  },
  {
   "cell_type": "markdown",
   "id": "e7e1c98b",
   "metadata": {},
   "source": [
    "### Data Preprocessing"
   ]
  },
  {
   "cell_type": "code",
   "execution_count": 9,
   "id": "85e361ee",
   "metadata": {},
   "outputs": [
    {
     "data": {
      "text/plain": [
       "text     0\n",
       "label    0\n",
       "dtype: int64"
      ]
     },
     "execution_count": 9,
     "metadata": {},
     "output_type": "execute_result"
    }
   ],
   "source": [
    "train.isnull().sum()"
   ]
  },
  {
   "cell_type": "code",
   "execution_count": 10,
   "id": "816e963b",
   "metadata": {},
   "outputs": [
    {
     "data": {
      "text/plain": [
       "' '"
      ]
     },
     "execution_count": 10,
     "metadata": {},
     "output_type": "execute_result"
    }
   ],
   "source": [
    "\" \""
   ]
  },
  {
   "cell_type": "code",
   "execution_count": 11,
   "id": "5a26f8a0",
   "metadata": {},
   "outputs": [],
   "source": [
    "import numpy as np\n",
    "train.replace(r'^\\s*$', np.nan, regex=True,inplace=True)\n",
    "train.dropna(axis = 0, how = 'any', inplace = True)"
   ]
  },
  {
   "cell_type": "code",
   "execution_count": 12,
   "id": "5b95fec5",
   "metadata": {},
   "outputs": [
    {
     "name": "stdout",
     "output_type": "stream",
     "text": [
      "escape seq removed\n"
     ]
    }
   ],
   "source": [
    "train.replace(to_replace=[r\"\\\\t|\\\\n|\\\\r\", \"\\t|\\n|\\r\"], value=[\"\",\"\"], regex=True, inplace=True)\n",
    "print('escape seq removed')"
   ]
  },
  {
   "cell_type": "code",
   "execution_count": 13,
   "id": "bd00ce9d",
   "metadata": {},
   "outputs": [],
   "source": [
    "import numpy as np\n",
    "train.replace(r'^\\s*$', np.nan, regex=True,inplace=True)\n",
    "train.dropna(axis = 0, how = 'any', inplace = True)"
   ]
  },
  {
   "cell_type": "code",
   "execution_count": 14,
   "id": "578d468f",
   "metadata": {},
   "outputs": [
    {
     "data": {
      "text/html": [
       "<div>\n",
       "<style scoped>\n",
       "    .dataframe tbody tr th:only-of-type {\n",
       "        vertical-align: middle;\n",
       "    }\n",
       "\n",
       "    .dataframe tbody tr th {\n",
       "        vertical-align: top;\n",
       "    }\n",
       "\n",
       "    .dataframe thead th {\n",
       "        text-align: right;\n",
       "    }\n",
       "</style>\n",
       "<table border=\"1\" class=\"dataframe\">\n",
       "  <thead>\n",
       "    <tr style=\"text-align: right;\">\n",
       "      <th></th>\n",
       "      <th>text</th>\n",
       "      <th>label</th>\n",
       "    </tr>\n",
       "  </thead>\n",
       "  <tbody>\n",
       "    <tr>\n",
       "      <th>15077</th>\n",
       "      <td>While it was nice to see a film about older pe...</td>\n",
       "      <td>0</td>\n",
       "    </tr>\n",
       "    <tr>\n",
       "      <th>19422</th>\n",
       "      <td>Same old same old about Che. It completely ign...</td>\n",
       "      <td>0</td>\n",
       "    </tr>\n",
       "    <tr>\n",
       "      <th>10822</th>\n",
       "      <td>Is this a good movie? It's hard to say -- but ...</td>\n",
       "      <td>1</td>\n",
       "    </tr>\n",
       "    <tr>\n",
       "      <th>20273</th>\n",
       "      <td>The mind boggles at exactly what about Univers...</td>\n",
       "      <td>0</td>\n",
       "    </tr>\n",
       "    <tr>\n",
       "      <th>25788</th>\n",
       "      <td>This is surprisingly above average slasher, th...</td>\n",
       "      <td>1</td>\n",
       "    </tr>\n",
       "    <tr>\n",
       "      <th>...</th>\n",
       "      <td>...</td>\n",
       "      <td>...</td>\n",
       "    </tr>\n",
       "    <tr>\n",
       "      <th>7451</th>\n",
       "      <td>this is one of the funniest shows i have ever ...</td>\n",
       "      <td>1</td>\n",
       "    </tr>\n",
       "    <tr>\n",
       "      <th>4178</th>\n",
       "      <td>Just in time to capitalize on the long-awaited...</td>\n",
       "      <td>0</td>\n",
       "    </tr>\n",
       "    <tr>\n",
       "      <th>17145</th>\n",
       "      <td>This is one creepy movie. Creepier than anythi...</td>\n",
       "      <td>1</td>\n",
       "    </tr>\n",
       "    <tr>\n",
       "      <th>19107</th>\n",
       "      <td>This film is amazing - it's just like a nightm...</td>\n",
       "      <td>1</td>\n",
       "    </tr>\n",
       "    <tr>\n",
       "      <th>20794</th>\n",
       "      <td>This meandering tale of mob revenge is simply ...</td>\n",
       "      <td>0</td>\n",
       "    </tr>\n",
       "  </tbody>\n",
       "</table>\n",
       "<p>10000 rows × 2 columns</p>\n",
       "</div>"
      ],
      "text/plain": [
       "                                                    text  label\n",
       "15077  While it was nice to see a film about older pe...      0\n",
       "19422  Same old same old about Che. It completely ign...      0\n",
       "10822  Is this a good movie? It's hard to say -- but ...      1\n",
       "20273  The mind boggles at exactly what about Univers...      0\n",
       "25788  This is surprisingly above average slasher, th...      1\n",
       "...                                                  ...    ...\n",
       "7451   this is one of the funniest shows i have ever ...      1\n",
       "4178   Just in time to capitalize on the long-awaited...      0\n",
       "17145  This is one creepy movie. Creepier than anythi...      1\n",
       "19107  This film is amazing - it's just like a nightm...      1\n",
       "20794  This meandering tale of mob revenge is simply ...      0\n",
       "\n",
       "[10000 rows x 2 columns]"
      ]
     },
     "execution_count": 14,
     "metadata": {},
     "output_type": "execute_result"
    }
   ],
   "source": [
    "train"
   ]
  },
  {
   "cell_type": "code",
   "execution_count": 15,
   "id": "b668382b",
   "metadata": {},
   "outputs": [
    {
     "name": "stdout",
     "output_type": "stream",
     "text": [
      "non-ascii data removed\n"
     ]
    }
   ],
   "source": [
    "train['text']=train['text'].str.encode('ascii', 'ignore').str.decode('ascii')\n",
    "print('non-ascii data removed')"
   ]
  },
  {
   "cell_type": "code",
   "execution_count": 16,
   "id": "7fb89ae4",
   "metadata": {},
   "outputs": [
    {
     "data": {
      "text/plain": [
       "'!\"#$%&\\'()*+,-./:;<=>?@[\\\\]^_`{|}~'"
      ]
     },
     "execution_count": 16,
     "metadata": {},
     "output_type": "execute_result"
    }
   ],
   "source": [
    "import string\n",
    "string.punctuation"
   ]
  },
  {
   "cell_type": "code",
   "execution_count": 17,
   "id": "9dfbb47f",
   "metadata": {},
   "outputs": [],
   "source": [
    "def remove_punctuations(text):\n",
    "    import string\n",
    "    for punctuation in string.punctuation:\n",
    "        text = text.replace(punctuation, '')\n",
    "    return text\n",
    "train['text']=train['text'].apply(remove_punctuations)"
   ]
  },
  {
   "cell_type": "code",
   "execution_count": 18,
   "id": "44d51137",
   "metadata": {},
   "outputs": [
    {
     "data": {
      "text/html": [
       "<div>\n",
       "<style scoped>\n",
       "    .dataframe tbody tr th:only-of-type {\n",
       "        vertical-align: middle;\n",
       "    }\n",
       "\n",
       "    .dataframe tbody tr th {\n",
       "        vertical-align: top;\n",
       "    }\n",
       "\n",
       "    .dataframe thead th {\n",
       "        text-align: right;\n",
       "    }\n",
       "</style>\n",
       "<table border=\"1\" class=\"dataframe\">\n",
       "  <thead>\n",
       "    <tr style=\"text-align: right;\">\n",
       "      <th></th>\n",
       "      <th>text</th>\n",
       "      <th>label</th>\n",
       "    </tr>\n",
       "  </thead>\n",
       "  <tbody>\n",
       "    <tr>\n",
       "      <th>15077</th>\n",
       "      <td>While it was nice to see a film about older pe...</td>\n",
       "      <td>0</td>\n",
       "    </tr>\n",
       "    <tr>\n",
       "      <th>19422</th>\n",
       "      <td>Same old same old about Che It completely igno...</td>\n",
       "      <td>0</td>\n",
       "    </tr>\n",
       "    <tr>\n",
       "      <th>10822</th>\n",
       "      <td>Is this a good movie Its hard to say  but in 1...</td>\n",
       "      <td>1</td>\n",
       "    </tr>\n",
       "    <tr>\n",
       "      <th>20273</th>\n",
       "      <td>The mind boggles at exactly what about Univers...</td>\n",
       "      <td>0</td>\n",
       "    </tr>\n",
       "    <tr>\n",
       "      <th>25788</th>\n",
       "      <td>This is surprisingly above average slasher tha...</td>\n",
       "      <td>1</td>\n",
       "    </tr>\n",
       "    <tr>\n",
       "      <th>...</th>\n",
       "      <td>...</td>\n",
       "      <td>...</td>\n",
       "    </tr>\n",
       "    <tr>\n",
       "      <th>7451</th>\n",
       "      <td>this is one of the funniest shows i have ever ...</td>\n",
       "      <td>1</td>\n",
       "    </tr>\n",
       "    <tr>\n",
       "      <th>4178</th>\n",
       "      <td>Just in time to capitalize on the longawaited ...</td>\n",
       "      <td>0</td>\n",
       "    </tr>\n",
       "    <tr>\n",
       "      <th>17145</th>\n",
       "      <td>This is one creepy movie Creepier than anythin...</td>\n",
       "      <td>1</td>\n",
       "    </tr>\n",
       "    <tr>\n",
       "      <th>19107</th>\n",
       "      <td>This film is amazing  its just like a nightmar...</td>\n",
       "      <td>1</td>\n",
       "    </tr>\n",
       "    <tr>\n",
       "      <th>20794</th>\n",
       "      <td>This meandering tale of mob revenge is simply ...</td>\n",
       "      <td>0</td>\n",
       "    </tr>\n",
       "  </tbody>\n",
       "</table>\n",
       "<p>10000 rows × 2 columns</p>\n",
       "</div>"
      ],
      "text/plain": [
       "                                                    text  label\n",
       "15077  While it was nice to see a film about older pe...      0\n",
       "19422  Same old same old about Che It completely igno...      0\n",
       "10822  Is this a good movie Its hard to say  but in 1...      1\n",
       "20273  The mind boggles at exactly what about Univers...      0\n",
       "25788  This is surprisingly above average slasher tha...      1\n",
       "...                                                  ...    ...\n",
       "7451   this is one of the funniest shows i have ever ...      1\n",
       "4178   Just in time to capitalize on the longawaited ...      0\n",
       "17145  This is one creepy movie Creepier than anythin...      1\n",
       "19107  This film is amazing  its just like a nightmar...      1\n",
       "20794  This meandering tale of mob revenge is simply ...      0\n",
       "\n",
       "[10000 rows x 2 columns]"
      ]
     },
     "execution_count": 18,
     "metadata": {},
     "output_type": "execute_result"
    }
   ],
   "source": [
    "train"
   ]
  },
  {
   "cell_type": "code",
   "execution_count": 19,
   "id": "4e618914",
   "metadata": {},
   "outputs": [
    {
     "name": "stdout",
     "output_type": "stream",
     "text": [
      "['i', 'me', 'my', 'myself', 'we', 'our', 'ours', 'ourselves', 'you', \"you're\", \"you've\", \"you'll\", \"you'd\", 'your', 'yours', 'yourself', 'yourselves', 'he', 'him', 'his', 'himself', 'she', \"she's\", 'her', 'hers', 'herself', 'it', \"it's\", 'its', 'itself', 'they', 'them', 'their', 'theirs', 'themselves', 'what', 'which', 'who', 'whom', 'this', 'that', \"that'll\", 'these', 'those', 'am', 'is', 'are', 'was', 'were', 'be', 'been', 'being', 'have', 'has', 'had', 'having', 'do', 'does', 'did', 'doing', 'a', 'an', 'the', 'and', 'but', 'if', 'or', 'because', 'as', 'until', 'while', 'of', 'at', 'by', 'for', 'with', 'about', 'against', 'between', 'into', 'through', 'during', 'before', 'after', 'above', 'below', 'to', 'from', 'up', 'down', 'in', 'out', 'on', 'off', 'over', 'under', 'again', 'further', 'then', 'once', 'here', 'there', 'when', 'where', 'why', 'how', 'all', 'any', 'both', 'each', 'few', 'more', 'most', 'other', 'some', 'such', 'no', 'nor', 'not', 'only', 'own', 'same', 'so', 'than', 'too', 'very', 's', 't', 'can', 'will', 'just', 'don', \"don't\", 'should', \"should've\", 'now', 'd', 'll', 'm', 'o', 're', 've', 'y', 'ain', 'aren', \"aren't\", 'couldn', \"couldn't\", 'didn', \"didn't\", 'doesn', \"doesn't\", 'hadn', \"hadn't\", 'hasn', \"hasn't\", 'haven', \"haven't\", 'isn', \"isn't\", 'ma', 'mightn', \"mightn't\", 'mustn', \"mustn't\", 'needn', \"needn't\", 'shan', \"shan't\", 'shouldn', \"shouldn't\", 'wasn', \"wasn't\", 'weren', \"weren't\", 'won', \"won't\", 'wouldn', \"wouldn't\"]\n"
     ]
    }
   ],
   "source": [
    "import nltk\n",
    "from nltk.corpus import stopwords\n",
    "print(stopwords.words('english'))"
   ]
  },
  {
   "cell_type": "code",
   "execution_count": 20,
   "id": "d1e93f5c",
   "metadata": {},
   "outputs": [],
   "source": [
    "stopword_list = nltk.corpus.stopwords.words('english')\n",
    "stopword_list.remove('no')\n",
    "stopword_list.remove('not')"
   ]
  },
  {
   "cell_type": "code",
   "execution_count": 21,
   "id": "e587661a",
   "metadata": {},
   "outputs": [],
   "source": [
    "def custom_remove_stopwords(text, is_lower_case=False):\n",
    "    tokens = tokenizer.tokenize(text)\n",
    "    tokens = [token.strip() for token in tokens]\n",
    "    if is_lower_case:\n",
    "        filtered_tokens = [token for token in tokens if token not in stopword_list]\n",
    "    else:\n",
    "        filtered_tokens = [token for token in tokens if token.lower() not in stopword_list]\n",
    "    filtered_text = ' '.join(filtered_tokens)    \n",
    "    return filtered_text"
   ]
  },
  {
   "cell_type": "code",
   "execution_count": 22,
   "id": "6e46a380",
   "metadata": {},
   "outputs": [],
   "source": [
    "train['text']=train['text'].apply(custom_remove_stopwords)"
   ]
  },
  {
   "cell_type": "code",
   "execution_count": 23,
   "id": "34d03d7c",
   "metadata": {},
   "outputs": [
    {
     "data": {
      "text/html": [
       "<div>\n",
       "<style scoped>\n",
       "    .dataframe tbody tr th:only-of-type {\n",
       "        vertical-align: middle;\n",
       "    }\n",
       "\n",
       "    .dataframe tbody tr th {\n",
       "        vertical-align: top;\n",
       "    }\n",
       "\n",
       "    .dataframe thead th {\n",
       "        text-align: right;\n",
       "    }\n",
       "</style>\n",
       "<table border=\"1\" class=\"dataframe\">\n",
       "  <thead>\n",
       "    <tr style=\"text-align: right;\">\n",
       "      <th></th>\n",
       "      <th>text</th>\n",
       "      <th>label</th>\n",
       "    </tr>\n",
       "  </thead>\n",
       "  <tbody>\n",
       "    <tr>\n",
       "      <th>15077</th>\n",
       "      <td>nice see film older people finding falling lov...</td>\n",
       "      <td>0</td>\n",
       "    </tr>\n",
       "    <tr>\n",
       "      <th>19422</th>\n",
       "      <td>old old Che completely ignored really interest...</td>\n",
       "      <td>0</td>\n",
       "    </tr>\n",
       "    <tr>\n",
       "      <th>10822</th>\n",
       "      <td>good movie hard say 1953 many people remarkabl...</td>\n",
       "      <td>1</td>\n",
       "    </tr>\n",
       "    <tr>\n",
       "      <th>20273</th>\n",
       "      <td>mind boggles exactly Universal Soldier merited...</td>\n",
       "      <td>0</td>\n",
       "    </tr>\n",
       "    <tr>\n",
       "      <th>25788</th>\n",
       "      <td>surprisingly average slasher thats enjoyable w...</td>\n",
       "      <td>1</td>\n",
       "    </tr>\n",
       "    <tr>\n",
       "      <th>...</th>\n",
       "      <td>...</td>\n",
       "      <td>...</td>\n",
       "    </tr>\n",
       "    <tr>\n",
       "      <th>7451</th>\n",
       "      <td>one funniest shows ever seen really refreshing...</td>\n",
       "      <td>1</td>\n",
       "    </tr>\n",
       "    <tr>\n",
       "      <th>4178</th>\n",
       "      <td>time capitalize longawaited movie version Drea...</td>\n",
       "      <td>0</td>\n",
       "    </tr>\n",
       "    <tr>\n",
       "      <th>17145</th>\n",
       "      <td>one creepy movie Creepier anything David Lynch...</td>\n",
       "      <td>1</td>\n",
       "    </tr>\n",
       "    <tr>\n",
       "      <th>19107</th>\n",
       "      <td>film amazing like nightmare bizarre story dark...</td>\n",
       "      <td>1</td>\n",
       "    </tr>\n",
       "    <tr>\n",
       "      <th>20794</th>\n",
       "      <td>meandering tale mob revenge simply not interes...</td>\n",
       "      <td>0</td>\n",
       "    </tr>\n",
       "  </tbody>\n",
       "</table>\n",
       "<p>10000 rows × 2 columns</p>\n",
       "</div>"
      ],
      "text/plain": [
       "                                                    text  label\n",
       "15077  nice see film older people finding falling lov...      0\n",
       "19422  old old Che completely ignored really interest...      0\n",
       "10822  good movie hard say 1953 many people remarkabl...      1\n",
       "20273  mind boggles exactly Universal Soldier merited...      0\n",
       "25788  surprisingly average slasher thats enjoyable w...      1\n",
       "...                                                  ...    ...\n",
       "7451   one funniest shows ever seen really refreshing...      1\n",
       "4178   time capitalize longawaited movie version Drea...      0\n",
       "17145  one creepy movie Creepier anything David Lynch...      1\n",
       "19107  film amazing like nightmare bizarre story dark...      1\n",
       "20794  meandering tale mob revenge simply not interes...      0\n",
       "\n",
       "[10000 rows x 2 columns]"
      ]
     },
     "execution_count": 23,
     "metadata": {},
     "output_type": "execute_result"
    }
   ],
   "source": [
    "train"
   ]
  },
  {
   "cell_type": "code",
   "execution_count": 24,
   "id": "59fd0d56",
   "metadata": {},
   "outputs": [],
   "source": [
    "def remove_special_characters(text):\n",
    "    text = re.sub('[^a-zA-z0-9\\s]', '', text)\n",
    "    return text"
   ]
  },
  {
   "cell_type": "code",
   "execution_count": 25,
   "id": "5ab5ab13",
   "metadata": {},
   "outputs": [],
   "source": [
    "train['text']=train['text'].apply(remove_special_characters)"
   ]
  },
  {
   "cell_type": "code",
   "execution_count": 26,
   "id": "62fcb586",
   "metadata": {},
   "outputs": [],
   "source": [
    "def remove_html(text):\n",
    "    import re\n",
    "    html_pattern = re.compile('<.*?>')\n",
    "    return html_pattern.sub(r' ', text)"
   ]
  },
  {
   "cell_type": "code",
   "execution_count": 27,
   "id": "511e0789",
   "metadata": {},
   "outputs": [],
   "source": [
    "train['text']=train['text'].apply(remove_html)"
   ]
  },
  {
   "cell_type": "code",
   "execution_count": 28,
   "id": "376a2ecd",
   "metadata": {},
   "outputs": [],
   "source": [
    "def remove_URL(text):\n",
    "    url = re.compile(r'https?://\\S+|www\\.\\S+')\n",
    "    return url.sub(r' ',text)"
   ]
  },
  {
   "cell_type": "code",
   "execution_count": 29,
   "id": "8e99e6cc",
   "metadata": {},
   "outputs": [],
   "source": [
    "train['text']=train['text'].apply(remove_URL)"
   ]
  },
  {
   "cell_type": "code",
   "execution_count": 30,
   "id": "56b759ca",
   "metadata": {},
   "outputs": [],
   "source": [
    "def remove_numbers(text):\n",
    "    \"\"\" Removes integers \"\"\"\n",
    "    text = ''.join([i for i in text if not i.isdigit()])         \n",
    "    return text"
   ]
  },
  {
   "cell_type": "code",
   "execution_count": 31,
   "id": "36c42971",
   "metadata": {},
   "outputs": [],
   "source": [
    "train['text']=train['text'].apply(remove_numbers)"
   ]
  },
  {
   "cell_type": "code",
   "execution_count": 32,
   "id": "b50d400c",
   "metadata": {},
   "outputs": [],
   "source": [
    "def cleanse(word):\n",
    "    rx = re.compile(r'\\D*\\d')\n",
    "    if rx.match(word):\n",
    "        return ''\n",
    "    return word\n",
    "def remove_alphanumeric(strings):\n",
    "    nstrings = [\" \".join(filter(None, (\n",
    "    cleanse(word) for word in string.split()))) \n",
    "    for string in strings.split()]\n",
    "    str1 = ' '.join(nstrings)\n",
    "    return str1"
   ]
  },
  {
   "cell_type": "code",
   "execution_count": 33,
   "id": "1c4f2b98",
   "metadata": {},
   "outputs": [],
   "source": [
    "train['text']=train['text'].apply(remove_alphanumeric)"
   ]
  },
  {
   "cell_type": "code",
   "execution_count": 34,
   "id": "14f3d2a3",
   "metadata": {},
   "outputs": [
    {
     "data": {
      "text/html": [
       "<div>\n",
       "<style scoped>\n",
       "    .dataframe tbody tr th:only-of-type {\n",
       "        vertical-align: middle;\n",
       "    }\n",
       "\n",
       "    .dataframe tbody tr th {\n",
       "        vertical-align: top;\n",
       "    }\n",
       "\n",
       "    .dataframe thead th {\n",
       "        text-align: right;\n",
       "    }\n",
       "</style>\n",
       "<table border=\"1\" class=\"dataframe\">\n",
       "  <thead>\n",
       "    <tr style=\"text-align: right;\">\n",
       "      <th></th>\n",
       "      <th>text</th>\n",
       "      <th>label</th>\n",
       "    </tr>\n",
       "  </thead>\n",
       "  <tbody>\n",
       "    <tr>\n",
       "      <th>15077</th>\n",
       "      <td>nice see film older people finding falling lov...</td>\n",
       "      <td>0</td>\n",
       "    </tr>\n",
       "    <tr>\n",
       "      <th>19422</th>\n",
       "      <td>old old Che completely ignored really interest...</td>\n",
       "      <td>0</td>\n",
       "    </tr>\n",
       "    <tr>\n",
       "      <th>10822</th>\n",
       "      <td>good movie hard say many people remarkably eff...</td>\n",
       "      <td>1</td>\n",
       "    </tr>\n",
       "    <tr>\n",
       "      <th>20273</th>\n",
       "      <td>mind boggles exactly Universal Soldier merited...</td>\n",
       "      <td>0</td>\n",
       "    </tr>\n",
       "    <tr>\n",
       "      <th>25788</th>\n",
       "      <td>surprisingly average slasher thats enjoyable w...</td>\n",
       "      <td>1</td>\n",
       "    </tr>\n",
       "    <tr>\n",
       "      <th>...</th>\n",
       "      <td>...</td>\n",
       "      <td>...</td>\n",
       "    </tr>\n",
       "    <tr>\n",
       "      <th>7451</th>\n",
       "      <td>one funniest shows ever seen really refreshing...</td>\n",
       "      <td>1</td>\n",
       "    </tr>\n",
       "    <tr>\n",
       "      <th>4178</th>\n",
       "      <td>time capitalize longawaited movie version Drea...</td>\n",
       "      <td>0</td>\n",
       "    </tr>\n",
       "    <tr>\n",
       "      <th>17145</th>\n",
       "      <td>one creepy movie Creepier anything David Lynch...</td>\n",
       "      <td>1</td>\n",
       "    </tr>\n",
       "    <tr>\n",
       "      <th>19107</th>\n",
       "      <td>film amazing like nightmare bizarre story dark...</td>\n",
       "      <td>1</td>\n",
       "    </tr>\n",
       "    <tr>\n",
       "      <th>20794</th>\n",
       "      <td>meandering tale mob revenge simply not interes...</td>\n",
       "      <td>0</td>\n",
       "    </tr>\n",
       "  </tbody>\n",
       "</table>\n",
       "<p>10000 rows × 2 columns</p>\n",
       "</div>"
      ],
      "text/plain": [
       "                                                    text  label\n",
       "15077  nice see film older people finding falling lov...      0\n",
       "19422  old old Che completely ignored really interest...      0\n",
       "10822  good movie hard say many people remarkably eff...      1\n",
       "20273  mind boggles exactly Universal Soldier merited...      0\n",
       "25788  surprisingly average slasher thats enjoyable w...      1\n",
       "...                                                  ...    ...\n",
       "7451   one funniest shows ever seen really refreshing...      1\n",
       "4178   time capitalize longawaited movie version Drea...      0\n",
       "17145  one creepy movie Creepier anything David Lynch...      1\n",
       "19107  film amazing like nightmare bizarre story dark...      1\n",
       "20794  meandering tale mob revenge simply not interes...      0\n",
       "\n",
       "[10000 rows x 2 columns]"
      ]
     },
     "execution_count": 34,
     "metadata": {},
     "output_type": "execute_result"
    }
   ],
   "source": [
    "train"
   ]
  },
  {
   "cell_type": "code",
   "execution_count": 35,
   "id": "0f934259",
   "metadata": {},
   "outputs": [],
   "source": [
    "def lemmatize_text(text):\n",
    "    text = nlp(text)\n",
    "    text = ' '.join([word.lemma_ if word.lemma_ != '-PRON-' else word.text for word in text])\n",
    "    return text"
   ]
  },
  {
   "cell_type": "code",
   "execution_count": 36,
   "id": "89c7939d",
   "metadata": {},
   "outputs": [],
   "source": [
    "train['text']=train['text'].apply(lemmatize_text)"
   ]
  },
  {
   "cell_type": "code",
   "execution_count": 37,
   "id": "6df0e33e",
   "metadata": {},
   "outputs": [],
   "source": [
    "train['sentiment'] = train['text'].apply(lambda tweet: TextBlob(tweet).sentiment)"
   ]
  },
  {
   "cell_type": "code",
   "execution_count": 38,
   "id": "56aabe38",
   "metadata": {},
   "outputs": [
    {
     "data": {
      "text/html": [
       "<div>\n",
       "<style scoped>\n",
       "    .dataframe tbody tr th:only-of-type {\n",
       "        vertical-align: middle;\n",
       "    }\n",
       "\n",
       "    .dataframe tbody tr th {\n",
       "        vertical-align: top;\n",
       "    }\n",
       "\n",
       "    .dataframe thead th {\n",
       "        text-align: right;\n",
       "    }\n",
       "</style>\n",
       "<table border=\"1\" class=\"dataframe\">\n",
       "  <thead>\n",
       "    <tr style=\"text-align: right;\">\n",
       "      <th></th>\n",
       "      <th>text</th>\n",
       "      <th>label</th>\n",
       "      <th>sentiment</th>\n",
       "    </tr>\n",
       "  </thead>\n",
       "  <tbody>\n",
       "    <tr>\n",
       "      <th>15077</th>\n",
       "      <td>nice see film old people find fall love perfor...</td>\n",
       "      <td>0</td>\n",
       "      <td>(0.38749999999999996, 0.6166666666666666)</td>\n",
       "    </tr>\n",
       "    <tr>\n",
       "      <th>19422</th>\n",
       "      <td>old old Che completely ignore really interesti...</td>\n",
       "      <td>0</td>\n",
       "      <td>(-0.04018595041322313, 0.5757690541781452)</td>\n",
       "    </tr>\n",
       "    <tr>\n",
       "      <th>10822</th>\n",
       "      <td>good movie hard say many people remarkably eff...</td>\n",
       "      <td>1</td>\n",
       "      <td>(0.0769607843137255, 0.6230392156862745)</td>\n",
       "    </tr>\n",
       "    <tr>\n",
       "      <th>20273</th>\n",
       "      <td>mind boggle exactly Universal Soldier merit se...</td>\n",
       "      <td>0</td>\n",
       "      <td>(0.07830086580086582, 0.4502489177489178)</td>\n",
       "    </tr>\n",
       "    <tr>\n",
       "      <th>25788</th>\n",
       "      <td>surprisingly average slasher that s enjoyable ...</td>\n",
       "      <td>1</td>\n",
       "      <td>(0.20198412698412696, 0.5997795414462082)</td>\n",
       "    </tr>\n",
       "    <tr>\n",
       "      <th>...</th>\n",
       "      <td>...</td>\n",
       "      <td>...</td>\n",
       "      <td>...</td>\n",
       "    </tr>\n",
       "    <tr>\n",
       "      <th>7451</th>\n",
       "      <td>one funniest show ever see really refreshing w...</td>\n",
       "      <td>1</td>\n",
       "      <td>(0.13974358974358972, 0.6035256410256411)</td>\n",
       "    </tr>\n",
       "    <tr>\n",
       "      <th>4178</th>\n",
       "      <td>time capitalize longawaite movie version Dream...</td>\n",
       "      <td>0</td>\n",
       "      <td>(0.0005408902691511402, 0.4510248447204969)</td>\n",
       "    </tr>\n",
       "    <tr>\n",
       "      <th>17145</th>\n",
       "      <td>one creepy movie Creepier anything David Lynch...</td>\n",
       "      <td>1</td>\n",
       "      <td>(-0.019191919191919194, 0.5805555555555556)</td>\n",
       "    </tr>\n",
       "    <tr>\n",
       "      <th>19107</th>\n",
       "      <td>film amazing like nightmare bizarre story dark...</td>\n",
       "      <td>1</td>\n",
       "      <td>(0.2794642857142857, 0.5214285714285715)</td>\n",
       "    </tr>\n",
       "    <tr>\n",
       "      <th>20794</th>\n",
       "      <td>meander tale mob revenge simply not interestin...</td>\n",
       "      <td>0</td>\n",
       "      <td>(-0.0875, 0.6229166666666667)</td>\n",
       "    </tr>\n",
       "  </tbody>\n",
       "</table>\n",
       "<p>10000 rows × 3 columns</p>\n",
       "</div>"
      ],
      "text/plain": [
       "                                                    text  label  \\\n",
       "15077  nice see film old people find fall love perfor...      0   \n",
       "19422  old old Che completely ignore really interesti...      0   \n",
       "10822  good movie hard say many people remarkably eff...      1   \n",
       "20273  mind boggle exactly Universal Soldier merit se...      0   \n",
       "25788  surprisingly average slasher that s enjoyable ...      1   \n",
       "...                                                  ...    ...   \n",
       "7451   one funniest show ever see really refreshing w...      1   \n",
       "4178   time capitalize longawaite movie version Dream...      0   \n",
       "17145  one creepy movie Creepier anything David Lynch...      1   \n",
       "19107  film amazing like nightmare bizarre story dark...      1   \n",
       "20794  meander tale mob revenge simply not interestin...      0   \n",
       "\n",
       "                                         sentiment  \n",
       "15077    (0.38749999999999996, 0.6166666666666666)  \n",
       "19422   (-0.04018595041322313, 0.5757690541781452)  \n",
       "10822     (0.0769607843137255, 0.6230392156862745)  \n",
       "20273    (0.07830086580086582, 0.4502489177489178)  \n",
       "25788    (0.20198412698412696, 0.5997795414462082)  \n",
       "...                                            ...  \n",
       "7451     (0.13974358974358972, 0.6035256410256411)  \n",
       "4178   (0.0005408902691511402, 0.4510248447204969)  \n",
       "17145  (-0.019191919191919194, 0.5805555555555556)  \n",
       "19107     (0.2794642857142857, 0.5214285714285715)  \n",
       "20794                (-0.0875, 0.6229166666666667)  \n",
       "\n",
       "[10000 rows x 3 columns]"
      ]
     },
     "execution_count": 38,
     "metadata": {},
     "output_type": "execute_result"
    }
   ],
   "source": [
    "train"
   ]
  },
  {
   "cell_type": "code",
   "execution_count": 39,
   "id": "23abca0a",
   "metadata": {},
   "outputs": [],
   "source": [
    "sentiment_series = train['sentiment'].tolist()"
   ]
  },
  {
   "cell_type": "code",
   "execution_count": 40,
   "id": "0dd0f3d9",
   "metadata": {},
   "outputs": [],
   "source": [
    "columns = ['polarity', 'subjectivity']\n",
    "df1 = pd.DataFrame(sentiment_series, columns=columns, index=train.index)"
   ]
  },
  {
   "cell_type": "code",
   "execution_count": 41,
   "id": "5dfa79cf",
   "metadata": {},
   "outputs": [
    {
     "data": {
      "text/html": [
       "<div>\n",
       "<style scoped>\n",
       "    .dataframe tbody tr th:only-of-type {\n",
       "        vertical-align: middle;\n",
       "    }\n",
       "\n",
       "    .dataframe tbody tr th {\n",
       "        vertical-align: top;\n",
       "    }\n",
       "\n",
       "    .dataframe thead th {\n",
       "        text-align: right;\n",
       "    }\n",
       "</style>\n",
       "<table border=\"1\" class=\"dataframe\">\n",
       "  <thead>\n",
       "    <tr style=\"text-align: right;\">\n",
       "      <th></th>\n",
       "      <th>polarity</th>\n",
       "      <th>subjectivity</th>\n",
       "    </tr>\n",
       "  </thead>\n",
       "  <tbody>\n",
       "    <tr>\n",
       "      <th>15077</th>\n",
       "      <td>0.387500</td>\n",
       "      <td>0.616667</td>\n",
       "    </tr>\n",
       "    <tr>\n",
       "      <th>19422</th>\n",
       "      <td>-0.040186</td>\n",
       "      <td>0.575769</td>\n",
       "    </tr>\n",
       "    <tr>\n",
       "      <th>10822</th>\n",
       "      <td>0.076961</td>\n",
       "      <td>0.623039</td>\n",
       "    </tr>\n",
       "    <tr>\n",
       "      <th>20273</th>\n",
       "      <td>0.078301</td>\n",
       "      <td>0.450249</td>\n",
       "    </tr>\n",
       "    <tr>\n",
       "      <th>25788</th>\n",
       "      <td>0.201984</td>\n",
       "      <td>0.599780</td>\n",
       "    </tr>\n",
       "    <tr>\n",
       "      <th>...</th>\n",
       "      <td>...</td>\n",
       "      <td>...</td>\n",
       "    </tr>\n",
       "    <tr>\n",
       "      <th>7451</th>\n",
       "      <td>0.139744</td>\n",
       "      <td>0.603526</td>\n",
       "    </tr>\n",
       "    <tr>\n",
       "      <th>4178</th>\n",
       "      <td>0.000541</td>\n",
       "      <td>0.451025</td>\n",
       "    </tr>\n",
       "    <tr>\n",
       "      <th>17145</th>\n",
       "      <td>-0.019192</td>\n",
       "      <td>0.580556</td>\n",
       "    </tr>\n",
       "    <tr>\n",
       "      <th>19107</th>\n",
       "      <td>0.279464</td>\n",
       "      <td>0.521429</td>\n",
       "    </tr>\n",
       "    <tr>\n",
       "      <th>20794</th>\n",
       "      <td>-0.087500</td>\n",
       "      <td>0.622917</td>\n",
       "    </tr>\n",
       "  </tbody>\n",
       "</table>\n",
       "<p>10000 rows × 2 columns</p>\n",
       "</div>"
      ],
      "text/plain": [
       "       polarity  subjectivity\n",
       "15077  0.387500      0.616667\n",
       "19422 -0.040186      0.575769\n",
       "10822  0.076961      0.623039\n",
       "20273  0.078301      0.450249\n",
       "25788  0.201984      0.599780\n",
       "...         ...           ...\n",
       "7451   0.139744      0.603526\n",
       "4178   0.000541      0.451025\n",
       "17145 -0.019192      0.580556\n",
       "19107  0.279464      0.521429\n",
       "20794 -0.087500      0.622917\n",
       "\n",
       "[10000 rows x 2 columns]"
      ]
     },
     "execution_count": 41,
     "metadata": {},
     "output_type": "execute_result"
    }
   ],
   "source": [
    "df1"
   ]
  },
  {
   "cell_type": "code",
   "execution_count": 42,
   "id": "cd3e76b8",
   "metadata": {},
   "outputs": [],
   "source": [
    "result = pd.concat([train,df1],axis=1)"
   ]
  },
  {
   "cell_type": "code",
   "execution_count": 43,
   "id": "59259f22",
   "metadata": {},
   "outputs": [],
   "source": [
    "result.drop(['sentiment'],axis=1,inplace=True)"
   ]
  },
  {
   "cell_type": "code",
   "execution_count": 44,
   "id": "0b1f5d3b",
   "metadata": {},
   "outputs": [],
   "source": [
    "result.loc[result['polarity']>=0.3, 'Sentiment'] = \"Positive\"\n",
    "result.loc[result['polarity']<0.3, 'Sentiment'] = \"Negative\""
   ]
  },
  {
   "cell_type": "code",
   "execution_count": 45,
   "id": "fb524d12",
   "metadata": {},
   "outputs": [
    {
     "data": {
      "text/html": [
       "<div>\n",
       "<style scoped>\n",
       "    .dataframe tbody tr th:only-of-type {\n",
       "        vertical-align: middle;\n",
       "    }\n",
       "\n",
       "    .dataframe tbody tr th {\n",
       "        vertical-align: top;\n",
       "    }\n",
       "\n",
       "    .dataframe thead th {\n",
       "        text-align: right;\n",
       "    }\n",
       "</style>\n",
       "<table border=\"1\" class=\"dataframe\">\n",
       "  <thead>\n",
       "    <tr style=\"text-align: right;\">\n",
       "      <th></th>\n",
       "      <th>text</th>\n",
       "      <th>label</th>\n",
       "      <th>polarity</th>\n",
       "      <th>subjectivity</th>\n",
       "      <th>Sentiment</th>\n",
       "    </tr>\n",
       "  </thead>\n",
       "  <tbody>\n",
       "    <tr>\n",
       "      <th>15077</th>\n",
       "      <td>nice see film old people find fall love perfor...</td>\n",
       "      <td>0</td>\n",
       "      <td>0.387500</td>\n",
       "      <td>0.616667</td>\n",
       "      <td>Positive</td>\n",
       "    </tr>\n",
       "    <tr>\n",
       "      <th>19422</th>\n",
       "      <td>old old Che completely ignore really interesti...</td>\n",
       "      <td>0</td>\n",
       "      <td>-0.040186</td>\n",
       "      <td>0.575769</td>\n",
       "      <td>Negative</td>\n",
       "    </tr>\n",
       "    <tr>\n",
       "      <th>10822</th>\n",
       "      <td>good movie hard say many people remarkably eff...</td>\n",
       "      <td>1</td>\n",
       "      <td>0.076961</td>\n",
       "      <td>0.623039</td>\n",
       "      <td>Negative</td>\n",
       "    </tr>\n",
       "    <tr>\n",
       "      <th>20273</th>\n",
       "      <td>mind boggle exactly Universal Soldier merit se...</td>\n",
       "      <td>0</td>\n",
       "      <td>0.078301</td>\n",
       "      <td>0.450249</td>\n",
       "      <td>Negative</td>\n",
       "    </tr>\n",
       "    <tr>\n",
       "      <th>25788</th>\n",
       "      <td>surprisingly average slasher that s enjoyable ...</td>\n",
       "      <td>1</td>\n",
       "      <td>0.201984</td>\n",
       "      <td>0.599780</td>\n",
       "      <td>Negative</td>\n",
       "    </tr>\n",
       "    <tr>\n",
       "      <th>...</th>\n",
       "      <td>...</td>\n",
       "      <td>...</td>\n",
       "      <td>...</td>\n",
       "      <td>...</td>\n",
       "      <td>...</td>\n",
       "    </tr>\n",
       "    <tr>\n",
       "      <th>7451</th>\n",
       "      <td>one funniest show ever see really refreshing w...</td>\n",
       "      <td>1</td>\n",
       "      <td>0.139744</td>\n",
       "      <td>0.603526</td>\n",
       "      <td>Negative</td>\n",
       "    </tr>\n",
       "    <tr>\n",
       "      <th>4178</th>\n",
       "      <td>time capitalize longawaite movie version Dream...</td>\n",
       "      <td>0</td>\n",
       "      <td>0.000541</td>\n",
       "      <td>0.451025</td>\n",
       "      <td>Negative</td>\n",
       "    </tr>\n",
       "    <tr>\n",
       "      <th>17145</th>\n",
       "      <td>one creepy movie Creepier anything David Lynch...</td>\n",
       "      <td>1</td>\n",
       "      <td>-0.019192</td>\n",
       "      <td>0.580556</td>\n",
       "      <td>Negative</td>\n",
       "    </tr>\n",
       "    <tr>\n",
       "      <th>19107</th>\n",
       "      <td>film amazing like nightmare bizarre story dark...</td>\n",
       "      <td>1</td>\n",
       "      <td>0.279464</td>\n",
       "      <td>0.521429</td>\n",
       "      <td>Negative</td>\n",
       "    </tr>\n",
       "    <tr>\n",
       "      <th>20794</th>\n",
       "      <td>meander tale mob revenge simply not interestin...</td>\n",
       "      <td>0</td>\n",
       "      <td>-0.087500</td>\n",
       "      <td>0.622917</td>\n",
       "      <td>Negative</td>\n",
       "    </tr>\n",
       "  </tbody>\n",
       "</table>\n",
       "<p>10000 rows × 5 columns</p>\n",
       "</div>"
      ],
      "text/plain": [
       "                                                    text  label  polarity  \\\n",
       "15077  nice see film old people find fall love perfor...      0  0.387500   \n",
       "19422  old old Che completely ignore really interesti...      0 -0.040186   \n",
       "10822  good movie hard say many people remarkably eff...      1  0.076961   \n",
       "20273  mind boggle exactly Universal Soldier merit se...      0  0.078301   \n",
       "25788  surprisingly average slasher that s enjoyable ...      1  0.201984   \n",
       "...                                                  ...    ...       ...   \n",
       "7451   one funniest show ever see really refreshing w...      1  0.139744   \n",
       "4178   time capitalize longawaite movie version Dream...      0  0.000541   \n",
       "17145  one creepy movie Creepier anything David Lynch...      1 -0.019192   \n",
       "19107  film amazing like nightmare bizarre story dark...      1  0.279464   \n",
       "20794  meander tale mob revenge simply not interestin...      0 -0.087500   \n",
       "\n",
       "       subjectivity Sentiment  \n",
       "15077      0.616667  Positive  \n",
       "19422      0.575769  Negative  \n",
       "10822      0.623039  Negative  \n",
       "20273      0.450249  Negative  \n",
       "25788      0.599780  Negative  \n",
       "...             ...       ...  \n",
       "7451       0.603526  Negative  \n",
       "4178       0.451025  Negative  \n",
       "17145      0.580556  Negative  \n",
       "19107      0.521429  Negative  \n",
       "20794      0.622917  Negative  \n",
       "\n",
       "[10000 rows x 5 columns]"
      ]
     },
     "execution_count": 45,
     "metadata": {},
     "output_type": "execute_result"
    }
   ],
   "source": [
    "result"
   ]
  },
  {
   "cell_type": "code",
   "execution_count": 46,
   "id": "38d307c5",
   "metadata": {},
   "outputs": [],
   "source": [
    "result.loc[result['label']==1, 'Sentiment_label'] = 1\n",
    "result.loc[result['label']==0, 'Sentiment_label'] = 0"
   ]
  },
  {
   "cell_type": "code",
   "execution_count": 47,
   "id": "641f0bfe",
   "metadata": {},
   "outputs": [
    {
     "data": {
      "text/html": [
       "<div>\n",
       "<style scoped>\n",
       "    .dataframe tbody tr th:only-of-type {\n",
       "        vertical-align: middle;\n",
       "    }\n",
       "\n",
       "    .dataframe tbody tr th {\n",
       "        vertical-align: top;\n",
       "    }\n",
       "\n",
       "    .dataframe thead th {\n",
       "        text-align: right;\n",
       "    }\n",
       "</style>\n",
       "<table border=\"1\" class=\"dataframe\">\n",
       "  <thead>\n",
       "    <tr style=\"text-align: right;\">\n",
       "      <th></th>\n",
       "      <th>text</th>\n",
       "      <th>label</th>\n",
       "      <th>polarity</th>\n",
       "      <th>subjectivity</th>\n",
       "      <th>Sentiment</th>\n",
       "      <th>Sentiment_label</th>\n",
       "    </tr>\n",
       "  </thead>\n",
       "  <tbody>\n",
       "    <tr>\n",
       "      <th>15077</th>\n",
       "      <td>nice see film old people find fall love perfor...</td>\n",
       "      <td>0</td>\n",
       "      <td>0.387500</td>\n",
       "      <td>0.616667</td>\n",
       "      <td>Positive</td>\n",
       "      <td>0.0</td>\n",
       "    </tr>\n",
       "    <tr>\n",
       "      <th>19422</th>\n",
       "      <td>old old Che completely ignore really interesti...</td>\n",
       "      <td>0</td>\n",
       "      <td>-0.040186</td>\n",
       "      <td>0.575769</td>\n",
       "      <td>Negative</td>\n",
       "      <td>0.0</td>\n",
       "    </tr>\n",
       "    <tr>\n",
       "      <th>10822</th>\n",
       "      <td>good movie hard say many people remarkably eff...</td>\n",
       "      <td>1</td>\n",
       "      <td>0.076961</td>\n",
       "      <td>0.623039</td>\n",
       "      <td>Negative</td>\n",
       "      <td>1.0</td>\n",
       "    </tr>\n",
       "    <tr>\n",
       "      <th>20273</th>\n",
       "      <td>mind boggle exactly Universal Soldier merit se...</td>\n",
       "      <td>0</td>\n",
       "      <td>0.078301</td>\n",
       "      <td>0.450249</td>\n",
       "      <td>Negative</td>\n",
       "      <td>0.0</td>\n",
       "    </tr>\n",
       "    <tr>\n",
       "      <th>25788</th>\n",
       "      <td>surprisingly average slasher that s enjoyable ...</td>\n",
       "      <td>1</td>\n",
       "      <td>0.201984</td>\n",
       "      <td>0.599780</td>\n",
       "      <td>Negative</td>\n",
       "      <td>1.0</td>\n",
       "    </tr>\n",
       "    <tr>\n",
       "      <th>...</th>\n",
       "      <td>...</td>\n",
       "      <td>...</td>\n",
       "      <td>...</td>\n",
       "      <td>...</td>\n",
       "      <td>...</td>\n",
       "      <td>...</td>\n",
       "    </tr>\n",
       "    <tr>\n",
       "      <th>7451</th>\n",
       "      <td>one funniest show ever see really refreshing w...</td>\n",
       "      <td>1</td>\n",
       "      <td>0.139744</td>\n",
       "      <td>0.603526</td>\n",
       "      <td>Negative</td>\n",
       "      <td>1.0</td>\n",
       "    </tr>\n",
       "    <tr>\n",
       "      <th>4178</th>\n",
       "      <td>time capitalize longawaite movie version Dream...</td>\n",
       "      <td>0</td>\n",
       "      <td>0.000541</td>\n",
       "      <td>0.451025</td>\n",
       "      <td>Negative</td>\n",
       "      <td>0.0</td>\n",
       "    </tr>\n",
       "    <tr>\n",
       "      <th>17145</th>\n",
       "      <td>one creepy movie Creepier anything David Lynch...</td>\n",
       "      <td>1</td>\n",
       "      <td>-0.019192</td>\n",
       "      <td>0.580556</td>\n",
       "      <td>Negative</td>\n",
       "      <td>1.0</td>\n",
       "    </tr>\n",
       "    <tr>\n",
       "      <th>19107</th>\n",
       "      <td>film amazing like nightmare bizarre story dark...</td>\n",
       "      <td>1</td>\n",
       "      <td>0.279464</td>\n",
       "      <td>0.521429</td>\n",
       "      <td>Negative</td>\n",
       "      <td>1.0</td>\n",
       "    </tr>\n",
       "    <tr>\n",
       "      <th>20794</th>\n",
       "      <td>meander tale mob revenge simply not interestin...</td>\n",
       "      <td>0</td>\n",
       "      <td>-0.087500</td>\n",
       "      <td>0.622917</td>\n",
       "      <td>Negative</td>\n",
       "      <td>0.0</td>\n",
       "    </tr>\n",
       "  </tbody>\n",
       "</table>\n",
       "<p>10000 rows × 6 columns</p>\n",
       "</div>"
      ],
      "text/plain": [
       "                                                    text  label  polarity  \\\n",
       "15077  nice see film old people find fall love perfor...      0  0.387500   \n",
       "19422  old old Che completely ignore really interesti...      0 -0.040186   \n",
       "10822  good movie hard say many people remarkably eff...      1  0.076961   \n",
       "20273  mind boggle exactly Universal Soldier merit se...      0  0.078301   \n",
       "25788  surprisingly average slasher that s enjoyable ...      1  0.201984   \n",
       "...                                                  ...    ...       ...   \n",
       "7451   one funniest show ever see really refreshing w...      1  0.139744   \n",
       "4178   time capitalize longawaite movie version Dream...      0  0.000541   \n",
       "17145  one creepy movie Creepier anything David Lynch...      1 -0.019192   \n",
       "19107  film amazing like nightmare bizarre story dark...      1  0.279464   \n",
       "20794  meander tale mob revenge simply not interestin...      0 -0.087500   \n",
       "\n",
       "       subjectivity Sentiment  Sentiment_label  \n",
       "15077      0.616667  Positive              0.0  \n",
       "19422      0.575769  Negative              0.0  \n",
       "10822      0.623039  Negative              1.0  \n",
       "20273      0.450249  Negative              0.0  \n",
       "25788      0.599780  Negative              1.0  \n",
       "...             ...       ...              ...  \n",
       "7451       0.603526  Negative              1.0  \n",
       "4178       0.451025  Negative              0.0  \n",
       "17145      0.580556  Negative              1.0  \n",
       "19107      0.521429  Negative              1.0  \n",
       "20794      0.622917  Negative              0.0  \n",
       "\n",
       "[10000 rows x 6 columns]"
      ]
     },
     "execution_count": 47,
     "metadata": {},
     "output_type": "execute_result"
    }
   ],
   "source": [
    "result"
   ]
  },
  {
   "cell_type": "code",
   "execution_count": null,
   "id": "3c8e5d7a",
   "metadata": {},
   "outputs": [],
   "source": []
  }
 ],
 "metadata": {
  "kernelspec": {
   "display_name": "Python 3 (ipykernel)",
   "language": "python",
   "name": "python3"
  },
  "language_info": {
   "codemirror_mode": {
    "name": "ipython",
    "version": 3
   },
   "file_extension": ".py",
   "mimetype": "text/x-python",
   "name": "python",
   "nbconvert_exporter": "python",
   "pygments_lexer": "ipython3",
   "version": "3.9.13"
  }
 },
 "nbformat": 4,
 "nbformat_minor": 5
}
